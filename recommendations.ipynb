{
 "cells": [
  {
   "cell_type": "markdown",
   "id": "f4095ae4-7294-4b28-853e-88d235002c97",
   "metadata": {},
   "source": [
    "# Инициализация"
   ]
  },
  {
   "cell_type": "markdown",
   "id": "2f2318d2-9df8-4911-915e-15b725c44f8a",
   "metadata": {},
   "source": [
    "Загружаем библиотеки необходимые для выполнения кода ноутбука."
   ]
  },
  {
   "cell_type": "code",
   "execution_count": 1,
   "id": "662d04e7-1b0b-4e4a-9ddf-4526d7fef119",
   "metadata": {},
   "outputs": [
    {
     "name": "stderr",
     "output_type": "stream",
     "text": [
      "/home/mle-user/mle_projects/mle-project-sprint-4-v001/env_recsys_start/lib/python3.10/site-packages/tqdm/auto.py:21: TqdmWarning: IProgress not found. Please update jupyter and ipywidgets. See https://ipywidgets.readthedocs.io/en/stable/user_install.html\n",
      "  from .autonotebook import tqdm as notebook_tqdm\n"
     ]
    }
   ],
   "source": [
    "import pandas as pd\n",
    "from implicit.als import AlternatingLeastSquares\n",
    "from scipy.sparse import coo_matrix\n",
    "import numpy as np"
   ]
  },
  {
   "cell_type": "markdown",
   "id": "bf80fbc5-b660-4fac-8fbb-a5cae77313b3",
   "metadata": {},
   "source": [
    "# === ЭТАП 1 ==="
   ]
  },
  {
   "cell_type": "markdown",
   "id": "5263a8b3-fe99-4204-8a2e-105182792c11",
   "metadata": {},
   "source": [
    "# Загрузка первичных данных"
   ]
  },
  {
   "cell_type": "markdown",
   "id": "1b54a6a5-1656-4e3c-99d1-49dc39451d33",
   "metadata": {},
   "source": [
    "Загружаем первичные данные из файлов:\n",
    "- tracks.parquet\n",
    "- catalog_names.parquet\n",
    "- interactions.parquet"
   ]
  },
  {
   "cell_type": "code",
   "execution_count": 2,
   "id": "5d4b8961-3f35-4e58-9d6b-3e2dbd2c4224",
   "metadata": {},
   "outputs": [
    {
     "name": "stdout",
     "output_type": "stream",
     "text": [
      "tracks: Index(['track_id', 'albums', 'artists', 'genres'], dtype='object')\n",
      "catalog_names: Index(['id', 'type', 'name'], dtype='object')\n",
      "interactions: Index(['user_id', 'track_id', 'track_seq', 'started_at'], dtype='object')\n",
      "   track_id                                             albums artists  \\\n",
      "0        26                                       [3, 2490753]    [16]   \n",
      "1        38                                       [3, 2490753]    [16]   \n",
      "2       135                                 [12, 214, 2490809]    [84]   \n",
      "3       136                                 [12, 214, 2490809]    [84]   \n",
      "4       138  [12, 214, 322, 72275, 72292, 91199, 213505, 24...    [84]   \n",
      "\n",
      "     genres  \n",
      "0  [11, 21]  \n",
      "1  [11, 21]  \n",
      "2      [11]  \n",
      "3      [11]  \n",
      "4      [11]  \n",
      "* * * * * * * * * * * * * * * * * * * * \n",
      "   id   type               name\n",
      "0   3  album    Taller Children\n",
      "1  12  album  Wild Young Hearts\n",
      "2  13  album      Lonesome Crow\n",
      "3  17  album      Graffiti Soul\n",
      "4  26  album     Blues Six Pack\n",
      "* * * * * * * * * * * * * * * * * * * * \n",
      "   user_id  track_id  track_seq started_at\n",
      "0        0     99262          1 2022-07-17\n",
      "1        0    589498          2 2022-07-19\n",
      "2        0    590262          3 2022-07-21\n",
      "3        0    590303          4 2022-07-22\n",
      "4        0    590692          5 2022-07-22\n"
     ]
    }
   ],
   "source": [
    "tracks = pd.read_parquet(\"tracks.parquet\")\n",
    "catalog_names = pd.read_parquet(\"catalog_names.parquet\")\n",
    "interactions = pd.read_parquet(\"interactions.parquet\")\n",
    "\n",
    "print(\"tracks:\", tracks.columns)\n",
    "print(\"catalog_names:\", catalog_names.columns)\n",
    "print(\"interactions:\", interactions.columns)\n",
    "\n",
    "print(tracks.head())\n",
    "print(\"* \"*20)\n",
    "print(catalog_names.head())\n",
    "print(\"* \"*20)\n",
    "print(interactions.head())\n"
   ]
  },
  {
   "cell_type": "markdown",
   "id": "e8f2a1f7-a05f-4f39-af90-5f4018aa6f9d",
   "metadata": {},
   "source": [
    "# Обзор данных"
   ]
  },
  {
   "cell_type": "markdown",
   "id": "46a85307-896c-4fac-9fcf-f0dffa90889e",
   "metadata": {},
   "source": [
    "Проверяем данные, есть ли с ними явные проблемы."
   ]
  },
  {
   "cell_type": "code",
   "execution_count": 3,
   "id": "c9f8f17e-9b56-4f5a-a463-f694a993effb",
   "metadata": {},
   "outputs": [
    {
     "name": "stdout",
     "output_type": "stream",
     "text": [
      "=== tracks ===\n",
      "Пропуски:\n",
      " track_id    0\n",
      "albums      0\n",
      "artists     0\n",
      "genres      0\n",
      "dtype: int64\n",
      "Дубликатов по 'track_id': 0\n",
      "\n",
      "=== catalog_names ===\n",
      "Пропуски:\n",
      " id      0\n",
      "type    0\n",
      "name    0\n",
      "dtype: int64\n",
      "Дубликатов по ['id', 'type']: 0\n",
      "\n",
      "=== interactions ===\n",
      "Пропуски:\n",
      " user_id       0\n",
      "track_id      0\n",
      "track_seq     0\n",
      "started_at    0\n",
      "dtype: int64\n",
      "Дубликатов по ['user_id', 'track_id', 'started_at']: 0\n",
      "Диапазон дат started_at:\n",
      " 2022-01-01 00:00:00 - 2022-12-31 00:00:00\n",
      "tracks - track_id: int64\n",
      "catalog_names - id: int64\n",
      "interactions - track_id: int32\n",
      "interactions - user_id: int32\n",
      "interactions - started_at: datetime64[ns]\n"
     ]
    }
   ],
   "source": [
    "print(\"=== tracks ===\")\n",
    "print(\"Пропуски:\\n\", tracks.isnull().sum())\n",
    "print(\"Дубликатов по 'track_id':\", tracks.duplicated(subset=['track_id']).sum())\n",
    "\n",
    "print(\"\\n=== catalog_names ===\")\n",
    "print(\"Пропуски:\\n\", catalog_names.isnull().sum())\n",
    "print(\"Дубликатов по ['id', 'type']:\", catalog_names.duplicated(subset=['id', 'type']).sum())\n",
    "\n",
    "print(\"\\n=== interactions ===\")\n",
    "print(\"Пропуски:\\n\", interactions.isnull().sum())\n",
    "print(\"Дубликатов по ['user_id', 'track_id', 'started_at']:\", interactions.duplicated(subset=['user_id', 'track_id', 'started_at']).sum())\n",
    "print(\"Диапазон дат started_at:\\n\", interactions['started_at'].min(), \"-\", interactions['started_at'].max())\n",
    "\n",
    "print(\"tracks - track_id:\", tracks[\"track_id\"].dtype)\n",
    "print(\"catalog_names - id:\", catalog_names[\"id\"].dtype)\n",
    "print(\"interactions - track_id:\", interactions[\"track_id\"].dtype)\n",
    "print(\"interactions - user_id:\", interactions[\"user_id\"].dtype)\n",
    "print(\"interactions - started_at:\", interactions[\"started_at\"].dtype)"
   ]
  },
  {
   "cell_type": "code",
   "execution_count": 4,
   "id": "efd2e2eb-3bec-4ce1-87ac-232bab8bc0d0",
   "metadata": {},
   "outputs": [
    {
     "name": "stdout",
     "output_type": "stream",
     "text": [
      "0    26\n",
      "1    38\n",
      "Name: track_id, dtype: int64\n",
      "0     3\n",
      "1    12\n",
      "Name: id, dtype: int64\n",
      "0    0\n",
      "1    0\n",
      "Name: user_id, dtype: int32\n"
     ]
    }
   ],
   "source": [
    "print(tracks[\"track_id\"].head(2))\n",
    "print(catalog_names[\"id\"].head(2))\n",
    "print(interactions[\"user_id\"].head(2))"
   ]
  },
  {
   "cell_type": "markdown",
   "id": "318b573a-9e2d-4808-95db-60cfb8bbdb73",
   "metadata": {
    "editable": true,
    "slideshow": {
     "slide_type": ""
    },
    "tags": []
   },
   "source": [
    "# Выводы"
   ]
  },
  {
   "cell_type": "markdown",
   "id": "caa96e12-36a8-4401-8f11-98627a49ae9d",
   "metadata": {},
   "source": [
    "Приведём выводы по первому знакомству с данными:\n",
    "- есть ли с данными явные проблемы,\n",
    "- какие корректирующие действия (в целом) были предприняты."
   ]
  },
  {
   "cell_type": "code",
   "execution_count": 5,
   "id": "f58cd010-c2fa-475f-b7e9-767965cd4f55",
   "metadata": {},
   "outputs": [],
   "source": [
    "#данные чистые, все айди в одном типе данных"
   ]
  },
  {
   "cell_type": "markdown",
   "id": "7bc3296b-eba6-4333-a78d-b9304aa87e3d",
   "metadata": {},
   "source": [
    "# === ЭТАП 2 ==="
   ]
  },
  {
   "cell_type": "markdown",
   "id": "68e73960-fd38-4e15-8db0-9a25c35dfd25",
   "metadata": {},
   "source": [
    "# EDA"
   ]
  },
  {
   "cell_type": "markdown",
   "id": "a30e823e-8e0f-4a76-a02e-8d1ba8bf0f8a",
   "metadata": {},
   "source": [
    "Распределение количества прослушанных треков."
   ]
  },
  {
   "cell_type": "code",
   "execution_count": 6,
   "id": "9bf5eaba-35f7-4da7-be59-9ab4a34b2423",
   "metadata": {},
   "outputs": [
    {
     "data": {
      "text/plain": [
       "<Axes: >"
      ]
     },
     "execution_count": 6,
     "metadata": {},
     "output_type": "execute_result"
    },
    {
     "data": {
      "image/png": "[encoded data removed]",
      "text/plain": [
       "<Figure size 640x480 with 1 Axes>"
      ]
     },
     "metadata": {},
     "output_type": "display_data"
    }
   ],
   "source": [
    "track_counts_per_user = interactions.groupby(\"user_id\")[\"track_id\"].count()\n",
    "track_counts_per_user.hist(bins=100)"
   ]
  },
  {
   "cell_type": "markdown",
   "id": "d765519a-18dd-4d30-9e29-cc2d84cacd79",
   "metadata": {},
   "source": [
    "Наиболее популярные треки"
   ]
  },
  {
   "cell_type": "code",
   "execution_count": 7,
   "id": "aecaf630-fde0-4860-b84a-42c933a9606e",
   "metadata": {},
   "outputs": [
    {
     "name": "stdout",
     "output_type": "stream",
     "text": [
      "track_id\n",
      "53404       111062\n",
      "33311009    106921\n",
      "178529      101924\n",
      "35505245     99490\n",
      "65851540     86670\n",
      "24692821     86246\n",
      "32947997     85886\n",
      "51241318     85244\n",
      "795836       85042\n",
      "45499814     84748\n",
      "Name: count, dtype: int64\n"
     ]
    }
   ],
   "source": [
    "top_tracks = interactions[\"track_id\"].value_counts().head(10)\n",
    "print(top_tracks)\n"
   ]
  },
  {
   "cell_type": "markdown",
   "id": "b1c32a5a-d3be-4f96-8dd9-f7860951020c",
   "metadata": {},
   "source": [
    "Наиболее популярные жанры"
   ]
  },
  {
   "cell_type": "code",
   "execution_count": 8,
   "id": "1bc50491-9235-4d3c-a6c2-297f7c05a959",
   "metadata": {},
   "outputs": [
    {
     "name": "stdout",
     "output_type": "stream",
     "text": [
      "genres\n",
      "11     166285\n",
      "75     128212\n",
      "102    118509\n",
      "68     114245\n",
      "47      72311\n",
      "3       65958\n",
      "44      59778\n",
      "14      55177\n",
      "16      51631\n",
      "20      46707\n",
      "Name: count, dtype: int64\n"
     ]
    }
   ],
   "source": [
    "from collections import Counter\n",
    "\n",
    "all_genres = tracks[\"genres\"].explode()\n",
    "genre_counts = all_genres.value_counts().head(10)\n",
    "print(genre_counts)\n"
   ]
  },
  {
   "cell_type": "markdown",
   "id": "15254e66-e80e-473b-ba24-abebea5ccac7",
   "metadata": {},
   "source": [
    "Треки, которые никто не прослушал"
   ]
  },
  {
   "cell_type": "code",
   "execution_count": 9,
   "id": "50bc50c6-2d83-4c7e-97fa-3e7627978438",
   "metadata": {},
   "outputs": [
    {
     "name": "stdout",
     "output_type": "stream",
     "text": [
      "Неиспользованных треков: 0\n"
     ]
    }
   ],
   "source": [
    "all_track_ids = set(tracks[\"track_id\"])\n",
    "used_track_ids = set(interactions[\"track_id\"])\n",
    "unused_track_ids = all_track_ids - used_track_ids\n",
    "\n",
    "print(\"Неиспользованных треков:\", len(unused_track_ids))\n"
   ]
  },
  {
   "cell_type": "code",
   "execution_count": 10,
   "id": "e6f984ee",
   "metadata": {},
   "outputs": [],
   "source": [
    "#Отрезок времени\n",
    "#print(min(interactions[\"started_at\"]))\n",
    "#print(max(interactions[\"started_at\"]))"
   ]
  },
  {
   "cell_type": "markdown",
   "id": "0d850a07-ef1e-462f-891a-1cf89f2e24ef",
   "metadata": {},
   "source": [
    "# Преобразование данных\n"
   ]
  },
  {
   "cell_type": "markdown",
   "id": "fabcf8d2-1192-4df5-b20b-fbb84689f57a",
   "metadata": {},
   "source": [
    "Преобразуем данные в формат, более пригодный для дальнейшего использования в расчётах рекомендаций."
   ]
  },
  {
   "cell_type": "code",
   "execution_count": null,
   "id": "a425556a-9382-45ca-a04e-f1981a522126",
   "metadata": {},
   "outputs": [],
   "source": []
  },
  {
   "cell_type": "markdown",
   "id": "4d1be653-eed8-4fa0-a9c5-3811b080d71d",
   "metadata": {},
   "source": [
    "# Сохранение данных"
   ]
  },
  {
   "cell_type": "markdown",
   "id": "36f1314a-3af3-4faf-a0b1-3045173d1500",
   "metadata": {},
   "source": [
    "Сохраним данные в двух файлах в персональном S3-бакете по пути `recsys/data/`:\n",
    "- `items.parquet` — все данные о музыкальных треках,\n",
    "- `events.parquet` — все данные о взаимодействиях."
   ]
  },
  {
   "cell_type": "code",
   "execution_count": 11,
   "id": "9f77af17-7705-4fae-9aad-db579b39faad",
   "metadata": {},
   "outputs": [],
   "source": [
    "#items = tracks.rename(columns={\n",
    "#    \"track_id\": \"item_id\"\n",
    "#})\n",
    "#items.to_parquet(\"items.parquet\", index=False)\n",
    "#\n",
    "#events = interactions.rename(columns={\n",
    "#    \"track_id\": \"item_id\",\n",
    "#    \"started_at\": \"event_timestamp\"\n",
    "#})\n",
    "#events.to_parquet(\"events.parquet\", index=False)\n"
   ]
  },
  {
   "cell_type": "markdown",
   "id": "72ecbbed-c560-44d9-9c14-86c7dc76f399",
   "metadata": {},
   "source": [
    "# Очистка памяти"
   ]
  },
  {
   "cell_type": "markdown",
   "id": "b5358ede-ba6e-4c4f-bd73-5b9344f0ba79",
   "metadata": {},
   "source": [
    "Здесь, может понадобится очистка памяти для высвобождения ресурсов для выполнения кода ниже. \n",
    "\n",
    "Приведите соответствующие код, комментарии, например:\n",
    "- код для удаление более ненужных переменных,\n",
    "- комментарий, что следует перезапустить kernel, выполнить такие-то начальные секции и продолжить с этапа 3."
   ]
  },
  {
   "cell_type": "code",
   "execution_count": 12,
   "id": "767fe920-e12e-4ad8-b04e-56e8091fac9f",
   "metadata": {},
   "outputs": [],
   "source": [
    "del tracks\n",
    "del catalog_names\n",
    "del interactions\n",
    "del track_counts_per_user\n",
    "del top_tracks\n",
    "del all_genres\n",
    "del genre_counts\n",
    "del all_track_ids\n",
    "del used_track_ids\n",
    "del unused_track_ids"
   ]
  },
  {
   "cell_type": "markdown",
   "id": "708503df-ee89-4cf3-8489-093dc478e2a8",
   "metadata": {},
   "source": [
    "# === ЭТАП 3 ==="
   ]
  },
  {
   "cell_type": "markdown",
   "id": "fd77de22-e10f-4b42-85c1-8fb6f805fe68",
   "metadata": {},
   "source": [
    "# Загрузка данных"
   ]
  },
  {
   "cell_type": "markdown",
   "id": "780a4241-1ecd-4a3e-bbb3-fc2f6ca94f68",
   "metadata": {},
   "source": [
    "Если необходимо, то загружаем items.parquet, events.parquet."
   ]
  },
  {
   "cell_type": "code",
   "execution_count": 13,
   "id": "f19fc8a5-bd2c-40d7-864a-ee75aca6d512",
   "metadata": {},
   "outputs": [],
   "source": [
    "events = pd.read_parquet(\"events.parquet\")\n",
    "items = pd.read_parquet(\"items.parquet\")"
   ]
  },
  {
   "cell_type": "markdown",
   "id": "a694c023-6477-490b-939d-1cfa6f5f1b72",
   "metadata": {},
   "source": [
    "# Разбиение данных"
   ]
  },
  {
   "cell_type": "markdown",
   "id": "fbd5f6e0-54e7-4428-8678-eabce505d82c",
   "metadata": {},
   "source": [
    "Разбиваем данные на тренировочную, тестовую выборки."
   ]
  },
  {
   "cell_type": "code",
   "execution_count": 14,
   "id": "00c2dfa5-d8a2-47d1-922e-6eefee2c62d1",
   "metadata": {},
   "outputs": [],
   "source": [
    "cutoff_time = pd.Timestamp(\"2022-12-16\")\n",
    "train_events = events[events[\"event_timestamp\"] < cutoff_time]\n",
    "test_events = events[events[\"event_timestamp\"] >= cutoff_time]"
   ]
  },
  {
   "cell_type": "markdown",
   "id": "9131c7e6-8852-4556-b510-51f7253cc299",
   "metadata": {},
   "source": [
    "# Топ популярных"
   ]
  },
  {
   "cell_type": "markdown",
   "id": "dd70d43a-88cc-4719-b291-feaed7136f30",
   "metadata": {},
   "source": [
    "Рассчитаем рекомендации как топ популярных."
   ]
  },
  {
   "cell_type": "code",
   "execution_count": 15,
   "id": "ee45e200-b7d6-4f56-9077-aad431689b96",
   "metadata": {},
   "outputs": [
    {
     "name": "stdout",
     "output_type": "stream",
     "text": [
      "Топ популярных треков: [53404, 33311009, 178529, 35505245, 24692821, 795836, 6705392, 32947997, 37384, 45499814, 51241318, 29544272, 39257277, 2758009, 65851540, 328683, 60292250, 17079396, 47627256, 51516485]\n"
     ]
    }
   ],
   "source": [
    "top_items = train_events[\"item_id\"].value_counts().head(20).index.tolist()\n",
    "print(\"Топ популярных треков:\", top_items)"
   ]
  },
  {
   "cell_type": "markdown",
   "id": "2ad231f2-6158-421a-b7fa-01d8bc3ed572",
   "metadata": {},
   "source": [
    "# Персональные"
   ]
  },
  {
   "cell_type": "markdown",
   "id": "86159460-cd9d-4b63-8248-604ea3c9aebf",
   "metadata": {},
   "source": [
    "Рассчитаем персональные рекомендации."
   ]
  },
  {
   "cell_type": "code",
   "execution_count": 16,
   "id": "d2944822-569c-4f9b-82dc-70a7fa2d542e",
   "metadata": {},
   "outputs": [
    {
     "name": "stderr",
     "output_type": "stream",
     "text": [
      "/tmp/ipykernel_2630/749614942.py:4: SettingWithCopyWarning: \n",
      "A value is trying to be set on a copy of a slice from a DataFrame.\n",
      "Try using .loc[row_indexer,col_indexer] = value instead\n",
      "\n",
      "See the caveats in the documentation: https://pandas.pydata.org/pandas-docs/stable/user_guide/indexing.html#returning-a-view-versus-a-copy\n",
      "  train_events[\"user_id_enc\"] = user_ids.cat.codes\n",
      "/tmp/ipykernel_2630/749614942.py:5: SettingWithCopyWarning: \n",
      "A value is trying to be set on a copy of a slice from a DataFrame.\n",
      "Try using .loc[row_indexer,col_indexer] = value instead\n",
      "\n",
      "See the caveats in the documentation: https://pandas.pydata.org/pandas-docs/stable/user_guide/indexing.html#returning-a-view-versus-a-copy\n",
      "  train_events[\"item_id_enc\"] = item_ids.cat.codes\n"
     ]
    }
   ],
   "source": [
    "user_ids = train_events[\"user_id\"].astype(\"category\")\n",
    "item_ids = train_events[\"item_id\"].astype(\"category\")\n",
    "\n",
    "train_events[\"user_id_enc\"] = user_ids.cat.codes\n",
    "train_events[\"item_id_enc\"] = item_ids.cat.codes\n",
    "\n",
    "user_item_matrix = coo_matrix((\n",
    "    np.ones(len(train_events)),\n",
    "    (train_events[\"user_id_enc\"], train_events[\"item_id_enc\"])\n",
    "))"
   ]
  },
  {
   "cell_type": "code",
   "execution_count": null,
   "id": "30dd8bc0",
   "metadata": {},
   "outputs": [
    {
     "name": "stderr",
     "output_type": "stream",
     "text": [
      "/home/mle-user/mle_projects/mle-project-sprint-4-v001/env_recsys_start/lib/python3.10/site-packages/implicit/cpu/als.py:95: RuntimeWarning: OpenBLAS is configured to use 4 threads. It is highly recommended to disable its internal threadpool by setting the environment variable 'OPENBLAS_NUM_THREADS=1' or by calling 'threadpoolctl.threadpool_limits(1, \"blas\")'. Having OpenBLAS use a threadpool can lead to severe performance issues here.\n",
      "  check_blas_config()\n",
      "/home/mle-user/mle_projects/mle-project-sprint-4-v001/env_recsys_start/lib/python3.10/site-packages/implicit/utils.py:164: ParameterWarning: Method expects CSR input, and was passed coo_matrix instead. Converting to CSR took 1.7861101627349854 seconds\n",
      "  warnings.warn(\n",
      "100%|██████████| 10/10 [06:16<00:00, 37.60s/it]\n"
     ]
    }
   ],
   "source": [
    "# als_model = AlternatingLeastSquares(factors=16, iterations=10, random_state=42)\n",
    "# als_model.fit(user_item_matrix)\n",
    "\n",
    "# user_id_map = dict(enumerate(user_ids.cat.categories))\n",
    "# item_id_map = dict(enumerate(item_ids.cat.categories))\n",
    "\n",
    "# user_item_csr = user_item_matrix.tocsr()"
   ]
  },
  {
   "cell_type": "code",
   "execution_count": 18,
   "id": "d4173537",
   "metadata": {},
   "outputs": [],
   "source": [
    "import pickle"
   ]
  },
  {
   "cell_type": "code",
   "execution_count": null,
   "id": "1c7e5fa6",
   "metadata": {},
   "outputs": [],
   "source": [
    "# with open(\"als_model.pkl\", \"wb\") as f:\n",
    "#     pickle.dump(als_model, f)\n",
    "from scipy.sparse import save_npz, load_npz\n",
    "#save_npz(\"user_item_csr.npz\", user_item_csr)\n",
    "user_item_csr = load_npz(\"user_item_csr.npz\")"
   ]
  },
  {
   "cell_type": "code",
   "execution_count": 20,
   "id": "343c4125",
   "metadata": {},
   "outputs": [],
   "source": [
    "from implicit.als import AlternatingLeastSquares\n",
    "from scipy.sparse import load_npz\n",
    "user_item_csr = load_npz(\"user_item_csr.npz\")\n",
    "\n",
    "with open(\"als_model.pkl\", \"rb\") as f:\n",
    "    als_model = pickle.load(f)"
   ]
  },
  {
   "cell_type": "code",
   "execution_count": 22,
   "id": "f2e8eddc",
   "metadata": {},
   "outputs": [],
   "source": [
    "# all_recs = []\n",
    "# for user in range(user_item_csr.shape[0]):\n",
    "#     recs = als_model.recommend(\n",
    "#         userid=user,\n",
    "#         user_items=user_item_csr,\n",
    "#         N=5,\n",
    "#         filter_already_liked_items=False\n",
    "#     )\n",
    "#     all_recs.append(recs)"
   ]
  },
  {
   "cell_type": "code",
   "execution_count": 23,
   "id": "a2526adf",
   "metadata": {},
   "outputs": [],
   "source": [
    "#rows = []\n",
    "#for user, recs in enumerate(all_recs):\n",
    "#    for rec in recs:\n",
    "#        item_id = rec[0]\n",
    "#        score = rec[1]\n",
    "#        rows.append((user, item_id, score))\n",
    "#\n",
    "#df = pd.DataFrame(rows, columns=[\"user_id\", \"item_id\", \"score\"])\n",
    "#df.to_parquet(\"recommendations.parquet\", index=False)\n"
   ]
  },
  {
   "cell_type": "code",
   "execution_count": 24,
   "id": "9d41576c",
   "metadata": {},
   "outputs": [],
   "source": [
    "recommendations_df = pd.read_parquet(\"recommendations.parquet\")"
   ]
  },
  {
   "cell_type": "code",
   "execution_count": 25,
   "id": "1e8cdb58-3a8c-45ad-8e5f-7f950314aa56",
   "metadata": {},
   "outputs": [],
   "source": [
    "#recommendations = []\n",
    "#for user_enc, recs in enumerate(all_recs):\n",
    "#    for item_enc, score in zip(recs[0], recs[1]): \n",
    "#        recommendations.append({\n",
    "#            \"user_id\": user_id_map[user_enc],\n",
    "#            \"item_id\": item_id_map[item_enc],\n",
    "#            \"score\": float(score)\n",
    "#        })\n",
    "#\n",
    "#personal_recs = pd.DataFrame(recommendations)\n",
    "#personal_recs.to_parquet(\"personal_als.parquet\", index=False)\n"
   ]
  },
  {
   "cell_type": "code",
   "execution_count": 26,
   "id": "07c37a64",
   "metadata": {},
   "outputs": [],
   "source": [
    "personal_als_df = pd.read_parquet(\"personal_als.parquet\")"
   ]
  },
  {
   "cell_type": "markdown",
   "id": "5f09dc7e-7c91-4355-860a-b9cfb9f33f15",
   "metadata": {},
   "source": [
    "# Похожие"
   ]
  },
  {
   "cell_type": "markdown",
   "id": "1dfcb683-b440-40a8-9975-894156a53872",
   "metadata": {},
   "source": [
    "Рассчитаем похожие, они позже пригодятся для онлайн-рекомендаций."
   ]
  },
  {
   "cell_type": "code",
   "execution_count": 27,
   "id": "a75d07ee-4b12-4ce5-aa85-e45cb7a7a4f0",
   "metadata": {},
   "outputs": [],
   "source": [
    "#item_id_map = dict(enumerate(item_ids.cat.categories))\n",
    "#\n",
    "#similar_items = []\n",
    "#for item_enc in range(len(item_id_map)):\n",
    "#    sims = als_model.similar_items(item_enc, N=11)\n",
    "#    for row in sims[1:]:  \n",
    "#        sim_item_enc = int(row[0])\n",
    "#        score = float(row[1])\n",
    "#        similar_items.append({\n",
    "#            \"item_id\": item_id_map[item_enc],\n",
    "#            \"similar_item_id\": item_id_map[sim_item_enc],\n",
    "#            \"score\": score\n",
    "#        })\n",
    "#\n",
    "#similar_df = pd.DataFrame(similar_items)\n",
    "#similar_df.to_parquet(\"similar.parquet\", index=False)\n"
   ]
  },
  {
   "cell_type": "code",
   "execution_count": 28,
   "id": "8ff1c746",
   "metadata": {},
   "outputs": [],
   "source": [
    "similar_df = pd.read_parquet(\"similar.parquet\")"
   ]
  },
  {
   "cell_type": "markdown",
   "id": "0087a3e7-ca9f-42cd-944c-944222c1baef",
   "metadata": {},
   "source": [
    "# Построение признаков"
   ]
  },
  {
   "cell_type": "markdown",
   "id": "e82a32e1-b90b-4eaf-9439-fc8deab9f34b",
   "metadata": {},
   "source": [
    "Построим три признака, можно больше, для ранжирующей модели."
   ]
  },
  {
   "cell_type": "code",
   "execution_count": 29,
   "id": "f3dd3d65",
   "metadata": {},
   "outputs": [],
   "source": [
    "from sklearn.linear_model import LogisticRegression\n",
    "from sklearn.model_selection import train_test_split\n",
    "from sklearn.metrics import roc_auc_score"
   ]
  },
  {
   "cell_type": "code",
   "execution_count": 30,
   "id": "d4c94e00",
   "metadata": {},
   "outputs": [
    {
     "name": "stdout",
     "output_type": "stream",
     "text": [
      "Index(['user_id', 'item_id', 'score'], dtype='object')\n",
      "Index(['item_id', 'similar_item_id', 'score'], dtype='object')\n",
      "Index(['user_id', 'item_id', 'score'], dtype='object')\n"
     ]
    }
   ],
   "source": [
    "print(personal_als_df.columns)\n",
    "print(similar_df.columns)\n",
    "print(recommendations_df.columns)\n"
   ]
  },
  {
   "cell_type": "code",
   "execution_count": 31,
   "id": "05b4ae84-406a-44a4-abec-4f80f93e3004",
   "metadata": {},
   "outputs": [],
   "source": [
    "# features = personal_als_df.copy()\n",
    "# features = features.rename(columns={\"score\": \"als_score\"})\n",
    "\n",
    "# features = features.merge(\n",
    "#     similar_df.rename(columns={\n",
    "#         \"similar_item_id\": \"rec_item_id\",\n",
    "#         \"score\": \"similar_score\"\n",
    "#     }),\n",
    "#     on=\"item_id\",\n",
    "#     how=\"left\"\n",
    "# )\n",
    "\n",
    "# features = features.merge(\n",
    "#     recommendations_df.rename(columns={\"score\": \"rec_score\"}),\n",
    "#     on=[\"user_id\", \"item_id\"],\n",
    "#     how=\"left\"\n",
    "# )\n",
    "\n",
    "# features[\"final_score\"] = (\n",
    "#     features[\"als_score\"].fillna(0) * 0.6 +\n",
    "#     features[\"similar_score\"].fillna(0) * 0.3 +\n",
    "#     features[\"rec_score\"].fillna(0) * 0.1\n",
    "# )\n",
    "\n",
    "# ranked_recs = (\n",
    "#     features.sort_values([\"user_id\", \"final_score\"], ascending=[True, False])\n",
    "#     .groupby(\"user_id\")\n",
    "#     .head(100)\n",
    "# )\n",
    "\n",
    "# ranked_recs.to_parquet(\"recommendationsPERSONAL.parquet\", index=False)\n",
    "\n",
    "# print(\"Файл recommendationsPERSONAL.parquet перезаписан.\")\n",
    "# print(ranked_recs.head(10))\n"
   ]
  },
  {
   "cell_type": "code",
   "execution_count": 32,
   "id": "00f84c35-f544-4c3d-ad53-9b1d2b684c75",
   "metadata": {},
   "outputs": [],
   "source": [
    "recommendationsPERS = pd.read_parquet(\"recommendationsPERSONAL.parquet\")"
   ]
  },
  {
   "cell_type": "markdown",
   "id": "47bcf88d-b236-46f0-a6f3-38ddd64895fe",
   "metadata": {},
   "source": [
    "# Ранжирование рекомендаций"
   ]
  },
  {
   "cell_type": "markdown",
   "id": "e8cd8223-3418-4493-8c87-1f76286ebda0",
   "metadata": {},
   "source": [
    "Построим ранжирующую модель, чтобы сделать рекомендации более точными. Отранжируем рекомендации."
   ]
  },
  {
   "cell_type": "code",
   "execution_count": 38,
   "id": "3f771f65",
   "metadata": {},
   "outputs": [],
   "source": [
    "ranked_recs = pd.read_parquet(\"recommendationsPERSONAL.parquet\")"
   ]
  },
  {
   "cell_type": "code",
   "execution_count": 39,
   "id": "24d10b48",
   "metadata": {},
   "outputs": [],
   "source": [
    "from sklearn.model_selection import train_test_split\n",
    "from lightgbm import LGBMRanker\n",
    "\n",
    "user_ids = ranked_recs[\"user_id\"].unique()\n",
    "train_users, test_users = train_test_split(user_ids, test_size=0.2, random_state=42)\n",
    "\n",
    "train_data = ranked_recs[ranked_recs[\"user_id\"].isin(train_users)]\n",
    "test_data = ranked_recs[ranked_recs[\"user_id\"].isin(test_users)]"
   ]
  },
  {
   "cell_type": "code",
   "execution_count": 40,
   "id": "79f1dd92-32a9-463d-827e-8bb9ee5bbb54",
   "metadata": {},
   "outputs": [],
   "source": [
    "X_train = train_data[[\"als_score\", \"similar_score\", \"rec_score\", \"final_score\"]]\n",
    "y_train = (train_data[\"final_score\"].rank(method=\"first\", ascending=False) <= len(train_data) * 0.2).astype(int)\n",
    "\n",
    "X_test = test_data[[\"als_score\", \"similar_score\", \"rec_score\", \"final_score\"]]\n",
    "y_test = (test_data[\"final_score\"].rank(method=\"first\", ascending=False) <= len(test_data) * 0.2).astype(int)\n",
    "\n",
    "train_groups = train_data.groupby(\"user_id\").size().to_list()\n",
    "test_groups = test_data.groupby(\"user_id\").size().to_list()\n"
   ]
  },
  {
   "cell_type": "code",
   "execution_count": 41,
   "id": "d8a96340",
   "metadata": {},
   "outputs": [
    {
     "name": "stdout",
     "output_type": "stream",
     "text": [
      "[LightGBM] [Info] Auto-choosing col-wise multi-threading, the overhead of testing was 0.593152 seconds.\n",
      "You can set `force_col_wise=true` to remove the overhead.\n",
      "[LightGBM] [Info] Total Bins 741\n",
      "[LightGBM] [Info] Number of data points in the train set: 5370260, number of used features: 4\n"
     ]
    },
    {
     "data": {
      "text/html": [
       "<style>#sk-container-id-1 {color: black;}#sk-container-id-1 pre{padding: 0;}#sk-container-id-1 div.sk-toggleable {background-color: white;}#sk-container-id-1 label.sk-toggleable__label {cursor: pointer;display: block;width: 100%;margin-bottom: 0;padding: 0.3em;box-sizing: border-box;text-align: center;}#sk-container-id-1 label.sk-toggleable__label-arrow:before {content: \"▸\";float: left;margin-right: 0.25em;color: #696969;}#sk-container-id-1 label.sk-toggleable__label-arrow:hover:before {color: black;}#sk-container-id-1 div.sk-estimator:hover label.sk-toggleable__label-arrow:before {color: black;}#sk-container-id-1 div.sk-toggleable__content {max-height: 0;max-width: 0;overflow: hidden;text-align: left;background-color: #f0f8ff;}#sk-container-id-1 div.sk-toggleable__content pre {margin: 0.2em;color: black;border-radius: 0.25em;background-color: #f0f8ff;}#sk-container-id-1 input.sk-toggleable__control:checked~div.sk-toggleable__content {max-height: 200px;max-width: 100%;overflow: auto;}#sk-container-id-1 input.sk-toggleable__control:checked~label.sk-toggleable__label-arrow:before {content: \"▾\";}#sk-container-id-1 div.sk-estimator input.sk-toggleable__control:checked~label.sk-toggleable__label {background-color: #d4ebff;}#sk-container-id-1 div.sk-label input.sk-toggleable__control:checked~label.sk-toggleable__label {background-color: #d4ebff;}#sk-container-id-1 input.sk-hidden--visually {border: 0;clip: rect(1px 1px 1px 1px);clip: rect(1px, 1px, 1px, 1px);height: 1px;margin: -1px;overflow: hidden;padding: 0;position: absolute;width: 1px;}#sk-container-id-1 div.sk-estimator {font-family: monospace;background-color: #f0f8ff;border: 1px dotted black;border-radius: 0.25em;box-sizing: border-box;margin-bottom: 0.5em;}#sk-container-id-1 div.sk-estimator:hover {background-color: #d4ebff;}#sk-container-id-1 div.sk-parallel-item::after {content: \"\";width: 100%;border-bottom: 1px solid gray;flex-grow: 1;}#sk-container-id-1 div.sk-label:hover label.sk-toggleable__label {background-color: #d4ebff;}#sk-container-id-1 div.sk-serial::before {content: \"\";position: absolute;border-left: 1px solid gray;box-sizing: border-box;top: 0;bottom: 0;left: 50%;z-index: 0;}#sk-container-id-1 div.sk-serial {display: flex;flex-direction: column;align-items: center;background-color: white;padding-right: 0.2em;padding-left: 0.2em;position: relative;}#sk-container-id-1 div.sk-item {position: relative;z-index: 1;}#sk-container-id-1 div.sk-parallel {display: flex;align-items: stretch;justify-content: center;background-color: white;position: relative;}#sk-container-id-1 div.sk-item::before, #sk-container-id-1 div.sk-parallel-item::before {content: \"\";position: absolute;border-left: 1px solid gray;box-sizing: border-box;top: 0;bottom: 0;left: 50%;z-index: -1;}#sk-container-id-1 div.sk-parallel-item {display: flex;flex-direction: column;z-index: 1;position: relative;background-color: white;}#sk-container-id-1 div.sk-parallel-item:first-child::after {align-self: flex-end;width: 50%;}#sk-container-id-1 div.sk-parallel-item:last-child::after {align-self: flex-start;width: 50%;}#sk-container-id-1 div.sk-parallel-item:only-child::after {width: 0;}#sk-container-id-1 div.sk-dashed-wrapped {border: 1px dashed gray;margin: 0 0.4em 0.5em 0.4em;box-sizing: border-box;padding-bottom: 0.4em;background-color: white;}#sk-container-id-1 div.sk-label label {font-family: monospace;font-weight: bold;display: inline-block;line-height: 1.2em;}#sk-container-id-1 div.sk-label-container {text-align: center;}#sk-container-id-1 div.sk-container {/* jupyter's `normalize.less` sets `[hidden] { display: none; }` but bootstrap.min.css set `[hidden] { display: none !important; }` so we also need the `!important` here to be able to override the default hidden behavior on the sphinx rendered scikit-learn.org. See: https://github.com/scikit-learn/scikit-learn/issues/21755 */display: inline-block !important;position: relative;}#sk-container-id-1 div.sk-text-repr-fallback {display: none;}</style><div id=\"sk-container-id-1\" class=\"sk-top-container\"><div class=\"sk-text-repr-fallback\"><pre>LGBMRanker(learning_rate=0.05, metric=&#x27;ndcg&#x27;, objective=&#x27;lambdarank&#x27;)</pre><b>In a Jupyter environment, please rerun this cell to show the HTML representation or trust the notebook. <br />On GitHub, the HTML representation is unable to render, please try loading this page with nbviewer.org.</b></div><div class=\"sk-container\" hidden><div class=\"sk-item\"><div class=\"sk-estimator sk-toggleable\"><input class=\"sk-toggleable__control sk-hidden--visually\" id=\"sk-estimator-id-1\" type=\"checkbox\" checked><label for=\"sk-estimator-id-1\" class=\"sk-toggleable__label sk-toggleable__label-arrow\">LGBMRanker</label><div class=\"sk-toggleable__content\"><pre>LGBMRanker(learning_rate=0.05, metric=&#x27;ndcg&#x27;, objective=&#x27;lambdarank&#x27;)</pre></div></div></div></div></div>"
      ],
      "text/plain": [
       "LGBMRanker(learning_rate=0.05, metric='ndcg', objective='lambdarank')"
      ]
     },
     "execution_count": 41,
     "metadata": {},
     "output_type": "execute_result"
    }
   ],
   "source": [
    "ranker = LGBMRanker(\n",
    "    objective=\"lambdarank\",\n",
    "    metric=\"ndcg\",\n",
    "    boosting_type=\"gbdt\",\n",
    "    num_leaves=31,\n",
    "    learning_rate=0.05,\n",
    "    n_estimators=100\n",
    ")\n",
    "\n",
    "ranker.fit(\n",
    "    X_train, y_train,\n",
    "    group=train_groups,\n",
    "    eval_set=[(X_test, y_test)],\n",
    "    eval_group=[test_groups],\n",
    "    eval_at=[5, 10]\n",
    ")"
   ]
  },
  {
   "cell_type": "code",
   "execution_count": 42,
   "id": "6dbe4db4-1ac5-44da-a13c-8e7f9768ab73",
   "metadata": {},
   "outputs": [
    {
     "name": "stderr",
     "output_type": "stream",
     "text": [
      "/tmp/ipykernel_2630/3714711879.py:1: SettingWithCopyWarning: \n",
      "A value is trying to be set on a copy of a slice from a DataFrame.\n",
      "Try using .loc[row_indexer,col_indexer] = value instead\n",
      "\n",
      "See the caveats in the documentation: https://pandas.pydata.org/pandas-docs/stable/user_guide/indexing.html#returning-a-view-versus-a-copy\n",
      "  test_data[\"pred_score\"] = ranker.predict(X_test)\n"
     ]
    },
    {
     "name": "stdout",
     "output_type": "stream",
     "text": [
      "Файл recommendations_ranked.parquet сохранён.\n",
      "    user_id   item_id  als_score  rec_item_id  similar_score  rec_score  \\\n",
      "25        5    178529   0.223985           38       0.864941        NaN   \n",
      "26        5    148345   0.188855           38       0.925949        NaN   \n",
      "27        5     37384   0.199281           38       0.260346        NaN   \n",
      "28        5     53404   0.254303           38       0.133883        NaN   \n",
      "29        5   2758009   0.180657           38       0.044061        NaN   \n",
      "35        7  52380688   0.023206           38       0.727476        NaN   \n",
      "36        7  65851540   0.021966           26       0.630653        NaN   \n",
      "37        7  62244864   0.018125           26       0.505802        NaN   \n",
      "38        7  66869588   0.018628           38       0.178692        NaN   \n",
      "39        7  49961817   0.020279           38       0.155754        NaN   \n",
      "\n",
      "    final_score  pred_score  \n",
      "25     0.393873    5.396156  \n",
      "26     0.391098    5.396156  \n",
      "27     0.197672   -5.385791  \n",
      "28     0.192747   -5.385791  \n",
      "29     0.121613   -5.385791  \n",
      "35     0.232166   -5.385791  \n",
      "36     0.202375   -5.385791  \n",
      "37     0.162616   -5.385791  \n",
      "38     0.064784   -5.385791  \n",
      "39     0.058894   -5.385791  \n"
     ]
    }
   ],
   "source": [
    "test_data[\"pred_score\"] = ranker.predict(X_test)\n",
    "\n",
    "ranked_final = (\n",
    "    test_data.sort_values([\"user_id\", \"pred_score\"], ascending=[True, False])\n",
    "    .groupby(\"user_id\")\n",
    "    .head(100)\n",
    ")\n",
    "\n",
    "ranked_final.to_parquet(\"recommendations_ranked.parquet\", index=False)\n",
    "print(\"Файл recommendations_ranked.parquet сохранён.\")\n",
    "print(ranked_final.head(10))"
   ]
  },
  {
   "cell_type": "markdown",
   "id": "b3c84071-45b5-4a15-a683-e0ab034a3128",
   "metadata": {},
   "source": [
    "# Оценка качества"
   ]
  },
  {
   "cell_type": "markdown",
   "id": "1b107fe4-554e-42b1-87d9-c435a52bb77a",
   "metadata": {},
   "source": [
    "Проверим оценку качества трёх типов рекомендаций: \n",
    "\n",
    "- топ популярных,\n",
    "- персональных, полученных при помощи ALS,\n",
    "- итоговых\n",
    "  \n",
    "по четырем метрикам: recall, precision, coverage, novelty."
   ]
  },
  {
   "cell_type": "code",
   "execution_count": 44,
   "id": "94d6f388-aecb-443e-8647-14014e932d4d",
   "metadata": {},
   "outputs": [
    {
     "data": {
      "text/html": [
       "<div>\n",
       "<style scoped>\n",
       "    .dataframe tbody tr th:only-of-type {\n",
       "        vertical-align: middle;\n",
       "    }\n",
       "\n",
       "    .dataframe tbody tr th {\n",
       "        vertical-align: top;\n",
       "    }\n",
       "\n",
       "    .dataframe thead th {\n",
       "        text-align: right;\n",
       "    }\n",
       "</style>\n",
       "<table border=\"1\" class=\"dataframe\">\n",
       "  <thead>\n",
       "    <tr style=\"text-align: right;\">\n",
       "      <th></th>\n",
       "      <th>Модель</th>\n",
       "      <th>Precision</th>\n",
       "      <th>Recall</th>\n",
       "      <th>Coverage</th>\n",
       "      <th>Novelty</th>\n",
       "    </tr>\n",
       "  </thead>\n",
       "  <tbody>\n",
       "    <tr>\n",
       "      <th>0</th>\n",
       "      <td>Популярные</td>\n",
       "      <td>0.069108</td>\n",
       "      <td>0.104127</td>\n",
       "      <td>0.000020</td>\n",
       "      <td>11.32014</td>\n",
       "    </tr>\n",
       "    <tr>\n",
       "      <th>1</th>\n",
       "      <td>ALS</td>\n",
       "      <td>0.232275</td>\n",
       "      <td>0.165523</td>\n",
       "      <td>0.000989</td>\n",
       "      <td>11.85998</td>\n",
       "    </tr>\n",
       "    <tr>\n",
       "      <th>2</th>\n",
       "      <td>Итоговые</td>\n",
       "      <td>0.232275</td>\n",
       "      <td>0.165523</td>\n",
       "      <td>0.000989</td>\n",
       "      <td>11.85998</td>\n",
       "    </tr>\n",
       "  </tbody>\n",
       "</table>\n",
       "</div>"
      ],
      "text/plain": [
       "       Модель  Precision    Recall  Coverage   Novelty\n",
       "0  Популярные   0.069108  0.104127  0.000020  11.32014\n",
       "1         ALS   0.232275  0.165523  0.000989  11.85998\n",
       "2    Итоговые   0.232275  0.165523  0.000989  11.85998"
      ]
     },
     "execution_count": 44,
     "metadata": {},
     "output_type": "execute_result"
    }
   ],
   "source": [
    "true_df = test_events[[\"user_id\", \"item_id\"]]\n",
    "all_items = train_events[\"item_id\"].unique()\n",
    "\n",
    "item_popularity = (\n",
    "    train_events[\"item_id\"].value_counts(normalize=True)\n",
    "    .rename_axis(\"item_id\")\n",
    "    .reset_index(name=\"popularity\")\n",
    ")\n",
    "\n",
    "def precision(recs, true):\n",
    "    merged = recs.merge(true, on=[\"user_id\", \"item_id\"])\n",
    "    p = merged.groupby(\"user_id\").size() / recs.groupby(\"user_id\").size()\n",
    "    return p.mean()\n",
    "\n",
    "def recall(recs, true):\n",
    "    merged = recs.merge(true, on=[\"user_id\", \"item_id\"])\n",
    "    r = merged.groupby(\"user_id\").size() / true.groupby(\"user_id\").size()\n",
    "    return r.mean()\n",
    "\n",
    "def coverage(recs, all_items):\n",
    "    return recs[\"item_id\"].nunique() / len(all_items)\n",
    "\n",
    "def novelty(recs, item_popularity):\n",
    "    merged = recs.merge(item_popularity, on=\"item_id\", how=\"left\")\n",
    "    return -np.mean(np.log2(merged[\"popularity\"] + 1e-9))\n",
    "\n",
    "popular_recs = (\n",
    "    pd.DataFrame({\"item_id\": top_items})\n",
    "    .assign(key=1)\n",
    "    .merge(test_events[[\"user_id\"]].drop_duplicates().assign(key=1), on=\"key\")\n",
    "    .drop(\"key\", axis=1)\n",
    ")\n",
    "\n",
    "als_recs = personal_als_df[[\"user_id\", \"item_id\"]]\n",
    "final_recs = ranked_recs[[\"user_id\", \"item_id\"]]\n",
    "\n",
    "results = []\n",
    "for name, recs in {\n",
    "    \"Популярные\": popular_recs,\n",
    "    \"ALS\": als_recs,\n",
    "    \"Итоговые\": final_recs\n",
    "}.items():\n",
    "    res = {\n",
    "        \"Модель\": name,\n",
    "        \"Precision\": precision(recs, true_df),\n",
    "        \"Recall\": recall(recs, true_df),\n",
    "        \"Coverage\": coverage(recs, all_items),\n",
    "        \"Novelty\": novelty(recs, item_popularity)\n",
    "    }\n",
    "    results.append(res)\n",
    "\n",
    "results_df = pd.DataFrame(results)\n",
    "results_df\n"
   ]
  },
  {
   "cell_type": "code",
   "execution_count": null,
   "id": "26df411f-14c1-4848-8797-f37afe449cc6",
   "metadata": {},
   "outputs": [],
   "source": []
  },
  {
   "cell_type": "markdown",
   "id": "f1c8d38c-32b0-46a4-96f0-cd01dac708bc",
   "metadata": {},
   "source": [
    "# === Выводы, метрики ==="
   ]
  },
  {
   "cell_type": "markdown",
   "id": "f7d7d5d8-7d1e-4fdf-a6cd-83e5ce92c684",
   "metadata": {},
   "source": [
    "Основные выводы при работе над расчётом рекомендаций, рассчитанные метрики."
   ]
  },
  {
   "cell_type": "code",
   "execution_count": null,
   "id": "6403097d-db36-46d9-8952-613c9bd51b05",
   "metadata": {},
   "outputs": [],
   "source": []
  },
  {
   "cell_type": "code",
   "execution_count": null,
   "id": "986cfdd5-6f2e-4de6-8666-85804c87d04b",
   "metadata": {},
   "outputs": [],
   "source": []
  }
 ],
 "metadata": {
  "kernelspec": {
   "display_name": "env_recsys_start",
   "language": "python",
   "name": "python3"
  },
  "language_info": {
   "codemirror_mode": {
    "name": "ipython",
    "version": 3
   },
   "file_extension": ".py",
   "mimetype": "text/x-python",
   "name": "python",
   "nbconvert_exporter": "python",
   "pygments_lexer": "ipython3",
   "version": "3.10.12"
  }
 },
 "nbformat": 4,
 "nbformat_minor": 5
}
